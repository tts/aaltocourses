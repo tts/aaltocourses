{
 "cells": [
  {
   "cell_type": "code",
   "execution_count": 3,
   "metadata": {},
   "outputs": [],
   "source": [
    "from selenium import webdriver\n",
    "from selenium.webdriver.chrome.options import Options\n",
    "from selenium.webdriver.common.by import By\n",
    "from selenium.webdriver.common.keys import Keys\n",
    "\n",
    "from bs4 import BeautifulSoup\n",
    "import pandas as pd\n",
    "import re\n",
    "import time\n",
    "import requests\n",
    "\n",
    "import matplotlib.pyplot as plt\n",
    "import networkx as nx"
   ]
  },
  {
   "cell_type": "code",
   "execution_count": 35,
   "metadata": {},
   "outputs": [],
   "source": [
    "base_url = 'https://courses.aalto.fi/course/'\n",
    "domain = 'https://courses.aalto.fi'"
   ]
  },
  {
   "cell_type": "code",
   "execution_count": 36,
   "metadata": {},
   "outputs": [],
   "source": [
    "''' prepare headless driver '''\n",
    "def headless_driver():\n",
    "    options = Options()\n",
    "    options.add_argument(\"--headless\")\n",
    "    driver = webdriver.Chrome(options = options)\n",
    "    return driver"
   ]
  },
  {
   "cell_type": "code",
   "execution_count": 37,
   "metadata": {},
   "outputs": [],
   "source": [
    "''' get soup '''\n",
    "def get_soup(url):\n",
    "    content = requests.get(url).content\n",
    "    return BeautifulSoup(content,'lxml') "
   ]
  },
  {
   "cell_type": "code",
   "execution_count": 38,
   "metadata": {},
   "outputs": [],
   "source": [
    "''' get soup from selenium '''\n",
    "def get_soup_from_selenium(url):    \n",
    "    driver = headless_driver()    \n",
    "    driver.get(url)\n",
    "    # Accept GDPR cookie consent\n",
    "    driver.find_element(By.XPATH, '/html/body/div[1]/div[2]/div/div/button').click()\n",
    "    # Scroll to bottom so that everything is returned\n",
    "    # https://stackoverflow.com/a/51345544\n",
    "    html = driver.find_element_by_tag_name('html')\n",
    "    html.send_keys(Keys.END)\n",
    "    # Wait a bit to get it all\n",
    "    time.sleep(1.5)    \n",
    "    # Hand over to BS\n",
    "    return BeautifulSoup(driver.page_source, 'lxml')"
   ]
  },
  {
   "cell_type": "code",
   "execution_count": 39,
   "metadata": {},
   "outputs": [],
   "source": [
    "''' return metadata from related courses '''\n",
    "def extract_courses(url, c):  \n",
    "    \n",
    "    links = []\n",
    "    titles = []\n",
    "    codes = []\n",
    "    credits = []\n",
    "    languages = []\n",
    "    \n",
    "    soup = get_soup_from_selenium(url)\n",
    "    \n",
    "    related = soup.find_all(\"a\", class_ = re.compile(\"^CourseRecommendations__StyledCourseRow\"))\n",
    "\n",
    "    for r in related:\n",
    "        # URL\n",
    "        link = domain + r.get('href')\n",
    "        links.append(link)\n",
    "        # Title\n",
    "        titles.append(r.find(\"h3\").text)\n",
    "        # Course code\n",
    "        codes.append(r.find_all(\"span\")[0].text)\n",
    "        # Credits\n",
    "        credits.append(r.find(\"span\", class_ = re.compile(\"^Credits\")).text)\n",
    "        # Language\n",
    "        img = r.findChild('img')\n",
    "        if img:\n",
    "            languages.append(r.find(\"img\", class_ = re.compile(\"^CourseRow__StyledFlag\")).get('alt'))\n",
    "        else:\n",
    "            languages.append('NA')\n",
    "            \n",
    "    related_courses_df = pd.DataFrame({\n",
    "        'relfrom' : c,\n",
    "        'title': titles,\n",
    "        'url': links,\n",
    "        'code': codes,\n",
    "        'credits': credits,\n",
    "        'language': languages\n",
    "    })\n",
    "        \n",
    "    return related_courses_df"
   ]
  },
  {
   "cell_type": "code",
   "execution_count": 12,
   "metadata": {},
   "outputs": [],
   "source": [
    "''' Previously harvested metadata about courses'''\n",
    "courses = pd.read_csv(\"aaltocourses.csv\", sep = \"\\t\")\n",
    "courses.replace({'ARTS': 'Aalto ARTS', \n",
    "                 'BIZ': 'Aalto BIZ', \n",
    "                 'CHEM': 'Aalto CHEM', \n",
    "                 'ELEC': 'Aalto ELEC', \n",
    "                 'ENG': 'Aalto ENG', \n",
    "                 'SCI': 'Aalto SCI'}, inplace=True)\n",
    "courses.index = range(len(courses))"
   ]
  },
  {
   "cell_type": "code",
   "execution_count": null,
   "metadata": {},
   "outputs": [],
   "source": [
    "# Note that the total harvesting time is about 3 hours \n",
    "# so consider splitting the data in half and running the script \n",
    "# with them one by one\n",
    "\n",
    "related_courses = []\n",
    "    \n",
    "start = time.time()\n",
    "\n",
    "for index, r in courses.iterrows():\n",
    "    c = r['code']\n",
    "    url = base_url + c\n",
    "    print(\"Harvesting course\", url, \"\\n\")       \n",
    "    ret = extract_courses(url, c)\n",
    "    related_courses.append(ret)\n",
    "\n",
    "all_related_courses_df = pd.concat(related_courses)\n",
    "\n",
    "all_related_courses_df.to_csv(\"aalto_related_courses.csv\", sep='\\t', index=False)\n",
    "\n",
    "end = time.time()-start\n",
    "\n",
    "print(\"The script took this many minutes to run:\", round(end/60,2))"
   ]
  },
  {
   "cell_type": "code",
   "execution_count": 9,
   "metadata": {},
   "outputs": [
    {
     "data": {
      "text/html": [
       "<div>\n",
       "<style scoped>\n",
       "    .dataframe tbody tr th:only-of-type {\n",
       "        vertical-align: middle;\n",
       "    }\n",
       "\n",
       "    .dataframe tbody tr th {\n",
       "        vertical-align: top;\n",
       "    }\n",
       "\n",
       "    .dataframe thead th {\n",
       "        text-align: right;\n",
       "    }\n",
       "</style>\n",
       "<table border=\"1\" class=\"dataframe\">\n",
       "  <thead>\n",
       "    <tr style=\"text-align: right;\">\n",
       "      <th></th>\n",
       "      <th>school</th>\n",
       "      <th>dept</th>\n",
       "      <th>title_x</th>\n",
       "      <th>url_x</th>\n",
       "      <th>code_x</th>\n",
       "      <th>credits_x</th>\n",
       "      <th>language_x</th>\n",
       "      <th>description</th>\n",
       "      <th>relfrom</th>\n",
       "      <th>title_y</th>\n",
       "      <th>url_y</th>\n",
       "      <th>code_y</th>\n",
       "      <th>credits_y</th>\n",
       "      <th>language_y</th>\n",
       "    </tr>\n",
       "  </thead>\n",
       "  <tbody>\n",
       "    <tr>\n",
       "      <th>0</th>\n",
       "      <td>Aalto ARTS</td>\n",
       "      <td>Architecture</td>\n",
       "      <td>Advanced Course in Landscape Construction, Studio</td>\n",
       "      <td>https://courses.aalto.fi/course/MAR-E1030</td>\n",
       "      <td>MAR-E1030</td>\n",
       "      <td>10-15 op</td>\n",
       "      <td>fi</td>\n",
       "      <td>Syventää maisemarakentamisen tekniikan tuntemu...</td>\n",
       "      <td>MAR-E1030</td>\n",
       "      <td>Field Course of Landscape Architecture 1</td>\n",
       "      <td>https://courses.aalto.fi/course/MAR-A1002</td>\n",
       "      <td>MAR-A1002</td>\n",
       "      <td>2 op</td>\n",
       "      <td>fi</td>\n",
       "    </tr>\n",
       "    <tr>\n",
       "      <th>1</th>\n",
       "      <td>Aalto ARTS</td>\n",
       "      <td>Architecture</td>\n",
       "      <td>Advanced Course in Landscape Construction, Studio</td>\n",
       "      <td>https://courses.aalto.fi/course/MAR-E1030</td>\n",
       "      <td>MAR-E1030</td>\n",
       "      <td>10-15 op</td>\n",
       "      <td>fi</td>\n",
       "      <td>Syventää maisemarakentamisen tekniikan tuntemu...</td>\n",
       "      <td>MAR-E1030</td>\n",
       "      <td>Field Course of Landscape Architecture 2</td>\n",
       "      <td>https://courses.aalto.fi/course/MAR-C1000</td>\n",
       "      <td>MAR-C1000</td>\n",
       "      <td>2 op</td>\n",
       "      <td>fi</td>\n",
       "    </tr>\n",
       "    <tr>\n",
       "      <th>2</th>\n",
       "      <td>Aalto ARTS</td>\n",
       "      <td>Architecture</td>\n",
       "      <td>Architecture in Finland and Scandinavia 2</td>\n",
       "      <td>https://courses.aalto.fi/course/ARK-C1001</td>\n",
       "      <td>ARK-C1001</td>\n",
       "      <td>3 op</td>\n",
       "      <td>fi</td>\n",
       "      <td>The main stages in the history of Finnish arch...</td>\n",
       "      <td>ARK-C1001</td>\n",
       "      <td>History of Wood Architecture in Finland</td>\n",
       "      <td>https://courses.aalto.fi/course/ARK-E1007</td>\n",
       "      <td>ARK-E1007</td>\n",
       "      <td>3-12 op</td>\n",
       "      <td>en</td>\n",
       "    </tr>\n",
       "    <tr>\n",
       "      <th>3</th>\n",
       "      <td>Aalto ARTS</td>\n",
       "      <td>Architecture</td>\n",
       "      <td>Architecture in Finland and Scandinavia 2</td>\n",
       "      <td>https://courses.aalto.fi/course/ARK-C1001</td>\n",
       "      <td>ARK-C1001</td>\n",
       "      <td>3 op</td>\n",
       "      <td>fi</td>\n",
       "      <td>The main stages in the history of Finnish arch...</td>\n",
       "      <td>ARK-C1001</td>\n",
       "      <td>History of Architecture, Special Project</td>\n",
       "      <td>https://courses.aalto.fi/course/ARK-E1008</td>\n",
       "      <td>ARK-E1008</td>\n",
       "      <td>1-10 op</td>\n",
       "      <td>fi</td>\n",
       "    </tr>\n",
       "    <tr>\n",
       "      <th>4</th>\n",
       "      <td>Aalto ARTS</td>\n",
       "      <td>Architecture</td>\n",
       "      <td>Architecture in Finland and Scandinavia 2</td>\n",
       "      <td>https://courses.aalto.fi/course/ARK-C1001</td>\n",
       "      <td>ARK-C1001</td>\n",
       "      <td>3 op</td>\n",
       "      <td>fi</td>\n",
       "      <td>The main stages in the history of Finnish arch...</td>\n",
       "      <td>ARK-C1001</td>\n",
       "      <td>Theory of Architecture, Special Project</td>\n",
       "      <td>https://courses.aalto.fi/course/ARK-E1506</td>\n",
       "      <td>ARK-E1506</td>\n",
       "      <td>1-10 op</td>\n",
       "      <td>fi</td>\n",
       "    </tr>\n",
       "  </tbody>\n",
       "</table>\n",
       "</div>"
      ],
      "text/plain": [
       "       school          dept  \\\n",
       "0  Aalto ARTS  Architecture   \n",
       "1  Aalto ARTS  Architecture   \n",
       "2  Aalto ARTS  Architecture   \n",
       "3  Aalto ARTS  Architecture   \n",
       "4  Aalto ARTS  Architecture   \n",
       "\n",
       "                                             title_x  \\\n",
       "0  Advanced Course in Landscape Construction, Studio   \n",
       "1  Advanced Course in Landscape Construction, Studio   \n",
       "2          Architecture in Finland and Scandinavia 2   \n",
       "3          Architecture in Finland and Scandinavia 2   \n",
       "4          Architecture in Finland and Scandinavia 2   \n",
       "\n",
       "                                       url_x     code_x credits_x language_x  \\\n",
       "0  https://courses.aalto.fi/course/MAR-E1030  MAR-E1030  10-15 op         fi   \n",
       "1  https://courses.aalto.fi/course/MAR-E1030  MAR-E1030  10-15 op         fi   \n",
       "2  https://courses.aalto.fi/course/ARK-C1001  ARK-C1001      3 op         fi   \n",
       "3  https://courses.aalto.fi/course/ARK-C1001  ARK-C1001      3 op         fi   \n",
       "4  https://courses.aalto.fi/course/ARK-C1001  ARK-C1001      3 op         fi   \n",
       "\n",
       "                                         description    relfrom  \\\n",
       "0  Syventää maisemarakentamisen tekniikan tuntemu...  MAR-E1030   \n",
       "1  Syventää maisemarakentamisen tekniikan tuntemu...  MAR-E1030   \n",
       "2  The main stages in the history of Finnish arch...  ARK-C1001   \n",
       "3  The main stages in the history of Finnish arch...  ARK-C1001   \n",
       "4  The main stages in the history of Finnish arch...  ARK-C1001   \n",
       "\n",
       "                                    title_y  \\\n",
       "0  Field Course of Landscape Architecture 1   \n",
       "1  Field Course of Landscape Architecture 2   \n",
       "2   History of Wood Architecture in Finland   \n",
       "3  History of Architecture, Special Project   \n",
       "4   Theory of Architecture, Special Project   \n",
       "\n",
       "                                       url_y     code_y credits_y language_y  \n",
       "0  https://courses.aalto.fi/course/MAR-A1002  MAR-A1002      2 op         fi  \n",
       "1  https://courses.aalto.fi/course/MAR-C1000  MAR-C1000      2 op         fi  \n",
       "2  https://courses.aalto.fi/course/ARK-E1007  ARK-E1007   3-12 op         en  \n",
       "3  https://courses.aalto.fi/course/ARK-E1008  ARK-E1008   1-10 op         fi  \n",
       "4  https://courses.aalto.fi/course/ARK-E1506  ARK-E1506   1-10 op         fi  "
      ]
     },
     "execution_count": 9,
     "metadata": {},
     "output_type": "execute_result"
    }
   ],
   "source": [
    "reldata = pd.read_csv(\"aalto_related_courses.csv\", sep = \"\\t\")\n",
    "\n",
    "joined = pd.merge(courses, reldata, \n",
    "                  left_on = 'code',\n",
    "                  right_on = 'relfrom', \n",
    "                  how = 'left')\n",
    "\n",
    "joined.head()"
   ]
  },
  {
   "cell_type": "code",
   "execution_count": 8,
   "metadata": {},
   "outputs": [],
   "source": [
    "G = nx.DiGraph()\n",
    "\n",
    "for course in joined.iterrows():\n",
    "    G.add_edge(course[1][8], \n",
    "               course[1][11], \n",
    "               inboundtitle = course[1][2],\n",
    "               outboundtitle = course[1][9])"
   ]
  },
  {
   "cell_type": "code",
   "execution_count": 9,
   "metadata": {},
   "outputs": [
    {
     "name": "stdout",
     "output_type": "stream",
     "text": [
      "1066\n"
     ]
    }
   ],
   "source": [
    "selected = joined[['code_x','title_x','credits_x','language_x','description','school','dept']]\n",
    "\n",
    "nodup = selected.drop_duplicates('code_x')\n",
    "\n",
    "print(len(nodup))"
   ]
  },
  {
   "cell_type": "code",
   "execution_count": 10,
   "metadata": {},
   "outputs": [],
   "source": [
    "node_attr = nodup.set_index('code_x').to_dict('index')"
   ]
  },
  {
   "cell_type": "code",
   "execution_count": 11,
   "metadata": {},
   "outputs": [],
   "source": [
    "nx.set_node_attributes(G, node_attr)"
   ]
  },
  {
   "cell_type": "code",
   "execution_count": 12,
   "metadata": {},
   "outputs": [],
   "source": [
    "nx.write_gexf(G, \"courses_attr.gexf\")"
   ]
  },
  {
   "cell_type": "code",
   "execution_count": 13,
   "metadata": {},
   "outputs": [
    {
     "data": {
      "text/plain": [
       "4197"
      ]
     },
     "execution_count": 13,
     "metadata": {},
     "output_type": "execute_result"
    }
   ],
   "source": [
    "G.number_of_edges()"
   ]
  }
 ],
 "metadata": {
  "kernelspec": {
   "display_name": "Python 3",
   "language": "python",
   "name": "python3"
  },
  "language_info": {
   "codemirror_mode": {
    "name": "ipython",
    "version": 3
   },
   "file_extension": ".py",
   "mimetype": "text/x-python",
   "name": "python",
   "nbconvert_exporter": "python",
   "pygments_lexer": "ipython3",
   "version": "3.7.3"
  }
 },
 "nbformat": 4,
 "nbformat_minor": 2
}
